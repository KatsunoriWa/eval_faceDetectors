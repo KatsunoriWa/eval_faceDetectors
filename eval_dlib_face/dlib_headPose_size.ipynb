{
 "cells": [
  {
   "cell_type": "markdown",
   "metadata": {},
   "source": [
    "# Head Pose Image Database\n",
    "\n",
    "http://www-prima.inrialpes.fr/perso/Gourier/Faces/HPDatabase.html\n",
    "## このデータベースを利用する目的：\n",
    "\n",
    "さまざまな顔の向きで顔を検出できるかどうかを評価する。\n",
    "\n",
    "各pitch, yaw の組み合わせに対して、３０枚の画像があり、\n",
    "顔向きごとの検出率を評価できる。\n",
    "\n",
    "## 評価上の注意点：\n",
    "\n",
    "- 背景がフラットな画像になっているので、背景が込み入っている時の検出率を評価できない。\n",
    "- 被験者が欧米人に偏っている。\n",
    "- 照明条件の多様性がない。\n",
    "- 表情の変化が少ない（口を開けたりはしていない）\n"
   ]
  },
  {
   "cell_type": "markdown",
   "metadata": {
    "collapsed": true
   },
   "source": [
    "顔検出が面内回転に対してどれくらい頑強かを評価する。\n",
    "\n",
    "データベースによっては既に目位置を正規化してあり、\n",
    "面内回転を加えたデータで評価してはじめて、実際環境での顔検出能力を評価できる。\n",
    "\n",
    "そこで、このスクリプトでは、データに面内回転を加えた画像を作って\n",
    "検出率を評価している。\n"
   ]
  },
  {
   "cell_type": "code",
   "execution_count": 1,
   "metadata": {
    "collapsed": true
   },
   "outputs": [],
   "source": [
    "%matplotlib inline\n",
    "import pandas as pd"
   ]
  },
  {
   "cell_type": "code",
   "execution_count": 2,
   "metadata": {
    "collapsed": true
   },
   "outputs": [],
   "source": [
    "import glob\n",
    "dataset = \"headPose\"\n",
    "names = glob.glob(\"headPose/Person*/*.jpg\")\n",
    "names.sort()\n",
    "scales = [1.0, 0.9, 0.8, 0.7, 0.6, 0.5, 0.4, 0.3, 0.2, 0.1]"
   ]
  },
  {
   "cell_type": "code",
   "execution_count": 3,
   "metadata": {
    "collapsed": true
   },
   "outputs": [],
   "source": [
    "# names = names[:10]"
   ]
  },
  {
   "cell_type": "code",
   "execution_count": 4,
   "metadata": {},
   "outputs": [
    {
     "name": "stderr",
     "output_type": "stream",
     "text": [
      "/usr/local/lib/python2.7/dist-packages/numpy/core/fromnumeric.py:2957: RuntimeWarning: Mean of empty slice.\n",
      "  out=out, **kwargs)\n"
     ]
    }
   ],
   "source": [
    "import dlibFrontal as faceDetector\n",
    "for scale in scales:\n",
    "    faceDetector.processDatabase(dataset, names, scale=scale)"
   ]
  },
  {
   "cell_type": "markdown",
   "metadata": {
    "collapsed": true
   },
   "source": [
    "# 検出処理後のデータ解析"
   ]
  },
  {
   "cell_type": "code",
   "execution_count": 5,
   "metadata": {},
   "outputs": [
    {
     "name": "stdout",
     "output_type": "stream",
     "text": [
      "1.0 0.32903225806451614\n",
      "0.9 0.33225806451612905\n",
      "0.8 0.32903225806451614\n",
      "0.7 0.33978494623655914\n",
      "0.6 0.33046594982078853\n",
      "0.5 0.3032258064516129\n",
      "0.4 0.04121863799283154\n",
      "0.3 0.0\n",
      "0.2 0.0\n",
      "0.1 0.0\n"
     ]
    }
   ],
   "source": [
    "dfs={}\n",
    "deg = 0\n",
    "for scale in scales:\n",
    "    dfs[scale] = pd.read_csv(\"log_%s_%d_%f.csv\" % (dataset, deg, scale))\n",
    "    print scale, dfs[scale][\"truePositives\"].mean()"
   ]
  },
  {
   "cell_type": "code",
   "execution_count": 6,
   "metadata": {
    "collapsed": true
   },
   "outputs": [],
   "source": [
    "rates = [dfs[scale][\"truePositives\"].mean() for scale in scales]\n",
    "falseRates = [dfs[scale][\"falsePositives\"].mean() for scale in scales]\n",
    "data = {\"scales\":scales, \"rates\":rates, \"falseRates\":falseRates}\n",
    "df = pd.DataFrame(data, columns=[\"scales\", \"rates\", \"falseRates\"])"
   ]
  },
  {
   "cell_type": "code",
   "execution_count": 7,
   "metadata": {
    "scrolled": true
   },
   "outputs": [
    {
     "data": {
      "text/plain": [
       "<matplotlib.axes._subplots.AxesSubplot at 0x7f0ef671ee90>"
      ]
     },
     "execution_count": 7,
     "metadata": {},
     "output_type": "execute_result"
    },
    {
     "data": {
      "image/png": "[encoded data removed]",
      "text/plain": [
       "<matplotlib.figure.Figure at 0x7f0fc4097390>"
      ]
     },
     "metadata": {},
     "output_type": "display_data"
    }
   ],
   "source": [
    "df.plot(x=\"scales\", y=\"rates\", grid=True)"
   ]
  },
  {
   "cell_type": "markdown",
   "metadata": {},
   "source": [
    "上の図は、画像の面内回転によって、どれだけ検出率が変化するのかを示している。"
   ]
  },
  {
   "cell_type": "code",
   "execution_count": 8,
   "metadata": {},
   "outputs": [
    {
     "data": {
      "text/plain": [
       "<matplotlib.axes._subplots.AxesSubplot at 0x7f0ef6496810>"
      ]
     },
     "execution_count": 8,
     "metadata": {},
     "output_type": "execute_result"
    },
    {
     "data": {
      "image/png": "[encoded data removed]",
      "text/plain": [
       "<matplotlib.figure.Figure at 0x7f0ef63f5450>"
      ]
     },
     "metadata": {},
     "output_type": "display_data"
    }
   ],
   "source": [
    "df.plot(x=\"scales\", y=\"falseRates\", grid=True)"
   ]
  },
  {
   "cell_type": "markdown",
   "metadata": {},
   "source": [
    "# NaNを含む値の平均をなんとかしたい\n",
    "import numpy as np\n",
    "rates = [dfs[scale][\"truePositives\"].mean() for scale in scales]\n",
    "falseRates = [dfs[scale][\"falsePositives\"].mean() for scale in scales]\n",
    "scale =1.0\n",
    "dfs[scale][\"meanSize\"]\n",
    "\n"
   ]
  },
  {
   "cell_type": "markdown",
   "metadata": {},
   "source": [
    "# NaNを含む値の平均をなんとかしたい\n",
    "np.nanmean(dfs[scale][\"meanSize\"]) \n",
    "meanSize= [np.nanmean(dfs[scale][\"meanSize\"]) for scale in scales]\n",
    "data = {\"scale\":scales, \"rates\":rates, \"falseRates\":falseRates, \"meanSize\":meanSize}\n",
    "df = pd.DataFrame(data, columns=[\"scale\", \"rates\", \"falseRate\", \"meanSize\"])"
   ]
  },
  {
   "cell_type": "code",
   "execution_count": null,
   "metadata": {
    "collapsed": true
   },
   "outputs": [],
   "source": []
  },
  {
   "cell_type": "code",
   "execution_count": null,
   "metadata": {
    "collapsed": true
   },
   "outputs": [],
   "source": []
  }
 ],
 "metadata": {
  "kernelspec": {
   "display_name": "Python 2",
   "language": "python",
   "name": "python2"
  },
  "language_info": {
   "codemirror_mode": {
    "name": "ipython",
    "version": 2
   },
   "file_extension": ".py",
   "mimetype": "text/x-python",
   "name": "python",
   "nbconvert_exporter": "python",
   "pygments_lexer": "ipython2",
   "version": "2.7.12"
  }
 },
 "nbformat": 4,
 "nbformat_minor": 2
}
