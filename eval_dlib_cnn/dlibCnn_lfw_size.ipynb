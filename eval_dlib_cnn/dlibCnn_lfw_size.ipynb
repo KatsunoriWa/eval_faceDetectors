{
 "cells": [
  {
   "cell_type": "markdown",
   "metadata": {},
   "source": [
    "# Labeled Faces in the Wild\n",
    "\n",
    "http://vis-www.cs.umass.edu/lfw/\n",
    "\n",
    "## このデータベースを利用する目的：\n",
    "\n",
    "制御された撮影環境にによる画像のデータベースではなく、さまざまな撮影環境で撮影された画像セットに対する顔の検出・顔の照合に使われるデータベース。近年、画像認識技術の評価に用いられることが増えてきている。\n",
    "\n",
    "## 評価上の注意：\n",
    "\n",
    "- 東洋人の顔が少ない。\n",
    "- 既に顔画像が正規化されている。両目の位置は既に一致するようになっている。\n",
    "- rollの評価は、別途画像を回転させて検出率を評価すること。\n",
    "- 有名人の画像であるので、その同じ有名人が既に検出などの学習の被写体として利用されている可能性がある。\n",
    "- 報道などの撮影で用いられた画像とみられるので、フォーカスや画像の明るさなどは確保された画像になっている比率が高い。"
   ]
  },
  {
   "cell_type": "markdown",
   "metadata": {
    "collapsed": true
   },
   "source": [
    "顔検出が面内回転に対してどれくらい頑強かを評価する。\n",
    "\n",
    "データベースによっては既に目位置を正規化してあり、\n",
    "面内回転を加えたデータで評価してはじめて、実際環境での顔検出能力を評価できる。\n",
    "\n",
    "そこで、このスクリプトでは、データに面内回転を加えた画像を作って\n",
    "検出率を評価している。\n"
   ]
  },
  {
   "cell_type": "code",
   "execution_count": null,
   "metadata": {
    "collapsed": true
   },
   "outputs": [],
   "source": [
    "%matplotlib inline\n",
    "import pandas as pd"
   ]
  },
  {
   "cell_type": "code",
   "execution_count": null,
   "metadata": {
    "collapsed": true
   },
   "outputs": [],
   "source": [
    "import glob\n",
    "dataset = \"lfw\"\n",
    "names = glob.glob(\"lfw/lfw/*/*.jpg\")\n",
    "names.sort()\n",
    "scales = [1.0, 0.9, 0.8, 0.7, 0.6, 0.5, 0.4, 0.3, 0.2, 0.1]"
   ]
  },
  {
   "cell_type": "code",
   "execution_count": null,
   "metadata": {
    "collapsed": true
   },
   "outputs": [],
   "source": [
    "# names = names[:10]"
   ]
  },
  {
   "cell_type": "code",
   "execution_count": null,
   "metadata": {},
   "outputs": [],
   "source": [
    "import dlibCnnFace as faceDetector\n",
    "for scale in scales:\n",
    "    faceDetector.processDatabase(dataset, names, scale=scale)"
   ]
  },
  {
   "cell_type": "markdown",
   "metadata": {
    "collapsed": true
   },
   "source": [
    "# 検出処理後のデータ解析"
   ]
  },
  {
   "cell_type": "code",
   "execution_count": null,
   "metadata": {},
   "outputs": [],
   "source": [
    "dfs={}\n",
    "deg = 0\n",
    "for scale in scales:\n",
    "    dfs[scale] = pd.read_csv(\"log_%s_%d_%f.csv\" % (dataset, deg, scale))\n",
    "    print scale, dfs[scale][\"truePositives\"].mean()"
   ]
  },
  {
   "cell_type": "code",
   "execution_count": null,
   "metadata": {
    "collapsed": true
   },
   "outputs": [],
   "source": [
    "rates = [dfs[scale][\"truePositives\"].mean() for scale in scales]\n",
    "falseRates = [dfs[scale][\"falsePositives\"].mean() for scale in scales]\n",
    "data = {\"scales\":scales, \"rates\":rates, \"falseRates\":falseRates}\n",
    "df = pd.DataFrame(data, columns=[\"scales\", \"rates\", \"falseRates\"])"
   ]
  },
  {
   "cell_type": "code",
   "execution_count": null,
   "metadata": {
    "scrolled": true
   },
   "outputs": [],
   "source": [
    "df.plot(x=\"scales\", y=\"rates\", grid=True)"
   ]
  },
  {
   "cell_type": "markdown",
   "metadata": {},
   "source": [
    "上の図は、画像の面内回転によって、どれだけ検出率が変化するのかを示している。"
   ]
  },
  {
   "cell_type": "code",
   "execution_count": null,
   "metadata": {},
   "outputs": [],
   "source": [
    "df.plot(x=\"scales\", y=\"falseRates\", grid=True)"
   ]
  },
  {
   "cell_type": "markdown",
   "metadata": {},
   "source": [
    "# NaNを含む値の平均をなんとかしたい\n",
    "import numpy as np\n",
    "rates = [dfs[scale][\"truePositives\"].mean() for scale in scales]\n",
    "falseRates = [dfs[scale][\"falsePositives\"].mean() for scale in scales]\n",
    "scale =1.0\n",
    "dfs[scale][\"meanSize\"]\n",
    "\n"
   ]
  },
  {
   "cell_type": "markdown",
   "metadata": {},
   "source": [
    "# NaNを含む値の平均をなんとかしたい\n",
    "np.nanmean(dfs[scale][\"meanSize\"]) \n",
    "meanSize= [np.nanmean(dfs[scale][\"meanSize\"]) for scale in scales]\n",
    "data = {\"scale\":scales, \"rates\":rates, \"falseRates\":falseRates, \"meanSize\":meanSize}\n",
    "df = pd.DataFrame(data, columns=[\"scale\", \"rates\", \"falseRate\", \"meanSize\"])"
   ]
  },
  {
   "cell_type": "code",
   "execution_count": null,
   "metadata": {
    "collapsed": true
   },
   "outputs": [],
   "source": []
  },
  {
   "cell_type": "code",
   "execution_count": null,
   "metadata": {
    "collapsed": true
   },
   "outputs": [],
   "source": []
  }
 ],
 "metadata": {
  "kernelspec": {
   "display_name": "Python 2",
   "language": "python",
   "name": "python2"
  },
  "language_info": {
   "codemirror_mode": {
    "name": "ipython",
    "version": 2
   },
   "file_extension": ".py",
   "mimetype": "text/x-python",
   "name": "python",
   "nbconvert_exporter": "python",
   "pygments_lexer": "ipython2",
   "version": "2.7.12"
  }
 },
 "nbformat": 4,
 "nbformat_minor": 2
}
