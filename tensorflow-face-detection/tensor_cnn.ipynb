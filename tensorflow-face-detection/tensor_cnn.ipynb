{
 "cells": [
  {
   "cell_type": "code",
   "execution_count": 1,
   "metadata": {
    "collapsed": true
   },
   "outputs": [],
   "source": [
    "%matplotlib inline\n",
    "import os\n",
    "import pandas as pd"
   ]
  },
  {
   "cell_type": "code",
   "execution_count": 2,
   "metadata": {
    "collapsed": true
   },
   "outputs": [],
   "source": [
    "import glob\n",
    "\n",
    "dataset = \"cnn\"\n",
    "names = glob.glob(\"cnn*/*/*.jpg\")\n",
    "names.sort()"
   ]
  },
  {
   "cell_type": "code",
   "execution_count": null,
   "metadata": {
    "collapsed": true
   },
   "outputs": [],
   "source": [
    "import tfFaceDetector as faceDetector\n",
    "faceDetector.processDatabase(dataset, names)"
   ]
  },
  {
   "cell_type": "markdown",
   "metadata": {},
   "source": [
    "# cnn dataset の検出処理後のデータ解析"
   ]
  },
  {
   "cell_type": "code",
   "execution_count": null,
   "metadata": {
    "collapsed": true
   },
   "outputs": [],
   "source": []
  },
  {
   "cell_type": "code",
   "execution_count": 2,
   "metadata": {},
   "outputs": [
    {
     "name": "stdout",
     "output_type": "stream",
     "text": [
      "     name  angles\n",
      "num              \n",
      "0       2       2\n",
      "1    6921    6921\n",
      "2    4707    4707\n",
      "3     697     697\n",
      "4     755     755\n",
      "5     225     225\n",
      "6     108     108\n",
      "7      30      30\n",
      "8      13      13\n",
      "9       7       7\n",
      "10      1       1\n",
      "         name    angles\n",
      "num                    \n",
      "0    0.000149  0.000149\n",
      "1    0.513961  0.513961\n",
      "2    0.349547  0.349547\n",
      "3    0.051760  0.051760\n",
      "4    0.056067  0.056067\n",
      "5    0.016709  0.016709\n",
      "6    0.008020  0.008020\n",
      "7    0.002228  0.002228\n",
      "8    0.000965  0.000965\n",
      "9    0.000520  0.000520\n",
      "10   0.000074  0.000074\n"
     ]
    },
    {
     "data": {
      "image/png": "[encoded data removed]",
      "text/plain": [
       "<matplotlib.figure.Figure at 0x7f4265301350>"
      ]
     },
     "metadata": {},
     "output_type": "display_data"
    }
   ],
   "source": [
    "import pandas as pd\n",
    "df = pd.read_csv(\"log_cnn.csv\")\n",
    "\n",
    "df[\"num\"].hist(bins=11)\n",
    "print df.groupby(\"num\").count()\n",
    "print df.groupby(\"num\").count()/float(df.shape[0])\n",
    "#print df.groupby(\"angles\", \"num\").count()\n",
    "\n"
   ]
  },
  {
   "cell_type": "code",
   "execution_count": 3,
   "metadata": {},
   "outputs": [
    {
     "name": "stdout",
     "output_type": "stream",
     "text": [
      "                      name  num\n",
      "angles                         \n",
      "-Ahmed_0001.jpg          1    1\n",
      "-Alegria_0001.jpg        1    1\n",
      "-Alexander_0001.jpg      1    1\n",
      "-Ani_0001.jpg            1    1\n",
      "-Arian_0001.jpg          1    1\n",
      "-Attiyah_0001.jpg        1    1\n",
      "-Awadi_0001.jpg          1    1\n",
      "-Azzawi_0001.jpg         1    1\n",
      "-Balart_0001.jpg         1    1\n",
      "-Buller_0001.jpg         1    1\n",
      "-Dandieu_0001.jpg        1    1\n",
      "-Daskalaki_0001.jpg      1    1\n",
      "-Diatta_0001.jpg         1    1\n",
      "-Douri_0001.jpg          1    1\n",
      "-Eliezer_0001.jpg        1    1\n",
      "-Enfeldt_0001.jpg        1    1\n",
      "-Even_0001.jpg           1    1\n",
      "-Freiberga_0001.jpg      1    1\n",
      "-Frye_0001.jpg           1    1\n",
      "-Ghozi_0001.jpg          1    1\n",
      "-Gmelin_0001.jpg         1    1\n",
      "-Guerni_0001.jpg         1    1\n",
      "-Hakim_0001.jpg          2    2\n",
      "-Haq_0001.jpg            2    2\n",
      "-Heib_0001.jpg           1    1\n",
      "-Il_0001.jpg             1    1\n",
      "-John_0001.jpg           1    1\n",
      "-Jones_0001.jpg          1    1\n",
      "-Jubeir_0001.jpg         1    1\n",
      "-Kazali_0001.jpg         1    1\n",
      "...                    ...  ...\n",
      "Zemaitis_0001.jpg        1    1\n",
      "Zenawi_0001.jpg          1    1\n",
      "Zeplowitz_0001.jpg       1    1\n",
      "Zetsche_0001.jpg         1    1\n",
      "Zhang_0001.jpg           1    1\n",
      "Zhaoxing_0001.jpg        1    1\n",
      "Zhar_0001.jpg            1    1\n",
      "Zhuang_0001.jpg          1    1\n",
      "Zia_0001.jpg             1    1\n",
      "Zico_0001.jpg            1    1\n",
      "Zidane_0001.jpg          1    1\n",
      "Zimbalist_0001.jpg       1    1\n",
      "Zimmer_0001.jpg          1    1\n",
      "Zimmermann_0001.jpg      1    1\n",
      "Zinser_0001.jpg          1    1\n",
      "Ziskin_0001.jpg          1    1\n",
      "Zito_0001.jpg            1    1\n",
      "Zivkovic_0001.jpg        1    1\n",
      "Ziyi_0001.jpg            1    1\n",
      "Zoellick_0001.jpg        1    1\n",
      "Zolman_0001.jpg          1    1\n",
      "Zook_0001.jpg            1    1\n",
      "Zorlu_0001.jpg           1    1\n",
      "Zorn_0001.jpg            2    2\n",
      "Zuluaga_0001.jpg         1    1\n",
      "Zuzic_0001.jpg           1    1\n",
      "Zwickel_0001.jpg         1    1\n",
      "Zylberstein_0001.jpg     1    1\n",
      "dEstaing_0001.jpg        1    1\n",
      "dEste_0001.jpg           1    1\n",
      "\n",
      "[6448 rows x 2 columns]\n"
     ]
    }
   ],
   "source": [
    "print df.groupby(\"angles\").count()"
   ]
  },
  {
   "cell_type": "code",
   "execution_count": null,
   "metadata": {
    "collapsed": true
   },
   "outputs": [],
   "source": []
  }
 ],
 "metadata": {
  "kernelspec": {
   "display_name": "Python 2",
   "language": "python",
   "name": "python2"
  },
  "language_info": {
   "codemirror_mode": {
    "name": "ipython",
    "version": 2
   },
   "file_extension": ".py",
   "mimetype": "text/x-python",
   "name": "python",
   "nbconvert_exporter": "python",
   "pygments_lexer": "ipython2",
   "version": "2.7.12"
  }
 },
 "nbformat": 4,
 "nbformat_minor": 2
}
