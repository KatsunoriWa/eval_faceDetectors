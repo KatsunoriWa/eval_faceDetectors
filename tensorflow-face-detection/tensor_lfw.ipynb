{
 "cells": [
  {
   "cell_type": "markdown",
   "metadata": {},
   "source": [
    "# Labeled Faces in the Wild\n",
    "\n",
    "http://vis-www.cs.umass.edu/lfw/"
   ]
  },
  {
   "cell_type": "markdown",
   "metadata": {},
   "source": [
    "## このデータベースを利用する目的：\n",
    "\n",
    "制御された撮影環境にによる画像のデータベースではなく、さまざまな撮影環境で撮影された画像セットに対する顔の検出・顔の照合に使われるデータベース。近年、画像認識技術の評価に用いられることが増えてきている。\n",
    "\n",
    "## 評価上の注意：\n",
    "\n",
    "- 東洋人の顔が少ない。\n",
    "- 既に顔画像が正規化されている。両目の位置は既に一致するようになっている。\n",
    "- rollの評価は、別途画像を回転させて検出率を評価すること。\n",
    "- 有名人の画像であるので、その同じ有名人が既に検出などの学習の被写体として利用されている可能性がある。\n",
    "- 報道などの撮影で用いられた画像とみられるので、フォーカスや画像の明るさなどは確保された画像になっている比率が高い。"
   ]
  },
  {
   "cell_type": "code",
   "execution_count": 1,
   "metadata": {
    "collapsed": true
   },
   "outputs": [],
   "source": [
    "%matplotlib inline\n",
    "import os\n"
   ]
  },
  {
   "cell_type": "code",
   "execution_count": null,
   "metadata": {
    "collapsed": true
   },
   "outputs": [],
   "source": []
  },
  {
   "cell_type": "code",
   "execution_count": 2,
   "metadata": {},
   "outputs": [
    {
     "name": "stderr",
     "output_type": "stream",
     "text": [
      "/usr/local/lib/python2.7/dist-packages/h5py/__init__.py:34: FutureWarning: Conversion of the second argument of issubdtype from `float` to `np.floating` is deprecated. In future, it will be treated as `np.float64 == np.dtype(float).type`.\n",
      "  from ._conv import register_converters as _register_converters\n"
     ]
    }
   ],
   "source": [
    "import glob\n",
    "\n",
    "dataset = \"lfw\"\n",
    "names = glob.glob(\"lfw/lfw/*/*.jpg\")\n",
    "names.sort()\n"
   ]
  },
  {
   "cell_type": "code",
   "execution_count": null,
   "metadata": {
    "collapsed": true
   },
   "outputs": [],
   "source": [
    "import tfFaceDetector as faceDetector\n",
    "faceDetector.processDatabase(dataset, names)"
   ]
  },
  {
   "cell_type": "markdown",
   "metadata": {},
   "source": [
    "### スクリプトの課題\n",
    "- LFWの場合には、顔の正規化がされているので、その位置に検出結果の枠が含まれているかどうかを判定することで、\n",
    "検出が成功したかどうかを判定している。\n",
    "- それ以外の着目していない検出が画像中にあったときに、それを検出したときに正しい検出なのか、誤検出なのかを判定する仕組みをいれていない。\n",
    "- そのため、背景にいる別の人の顔を検出しても誤検出に分類されてしまっている。"
   ]
  },
  {
   "cell_type": "code",
   "execution_count": null,
   "metadata": {
    "collapsed": true
   },
   "outputs": [],
   "source": []
  },
  {
   "cell_type": "code",
   "execution_count": 3,
   "metadata": {},
   "outputs": [
    {
     "data": {
      "text/plain": [
       "<matplotlib.axes._subplots.AxesSubplot at 0x7fd874b690d0>"
      ]
     },
     "execution_count": 3,
     "metadata": {},
     "output_type": "execute_result"
    },
    {
     "data": {
      "image/png": "[encoded data removed]",
      "text/plain": [
       "<matplotlib.figure.Figure at 0x7fd874b8e950>"
      ]
     },
     "metadata": {},
     "output_type": "display_data"
    }
   ],
   "source": [
    "import pandas as pd\n",
    "df = pd.read_csv(\"log_lfw_0.csv\")\n",
    "\n",
    "\n",
    "df[\"num\"].hist(bins=6)\n",
    "\n",
    "\n"
   ]
  },
  {
   "cell_type": "code",
   "execution_count": 4,
   "metadata": {
    "scrolled": true
   },
   "outputs": [
    {
     "data": {
      "text/plain": [
       "<matplotlib.axes._subplots.AxesSubplot at 0x7fd874e07c10>"
      ]
     },
     "execution_count": 4,
     "metadata": {},
     "output_type": "execute_result"
    },
    {
     "data": {
      "image/png": "[encoded data removed]",
      "text/plain": [
       "<matplotlib.figure.Figure at 0x7fd874e07510>"
      ]
     },
     "metadata": {},
     "output_type": "display_data"
    }
   ],
   "source": [
    "df[\"truePositives\"].hist(bins=range(0, 5, 1))\n"
   ]
  },
  {
   "cell_type": "code",
   "execution_count": 5,
   "metadata": {},
   "outputs": [
    {
     "name": "stdout",
     "output_type": "stream",
     "text": [
      "      name  truePositives  falsePositives  angles\n",
      "num                                              \n",
      "0      791            791             791     791\n",
      "1    11616          11616           11616   11616\n",
      "2      763            763             763     763\n",
      "3       54             54              54      54\n",
      "4        5              5               5       5\n",
      "5        3              3               3       3\n",
      "8        1              1               1       1\n",
      "         name  truePositives  falsePositives    angles\n",
      "num                                                   \n",
      "0    0.059775       0.059775        0.059775  0.059775\n",
      "1    0.877805       0.877805        0.877805  0.877805\n",
      "2    0.057659       0.057659        0.057659  0.057659\n",
      "3    0.004081       0.004081        0.004081  0.004081\n",
      "4    0.000378       0.000378        0.000378  0.000378\n",
      "5    0.000227       0.000227        0.000227  0.000227\n",
      "8    0.000076       0.000076        0.000076  0.000076\n"
     ]
    },
    {
     "data": {
      "image/png": "[encoded data removed]",
      "text/plain": [
       "<matplotlib.figure.Figure at 0x7fd86f2b2d90>"
      ]
     },
     "metadata": {},
     "output_type": "display_data"
    }
   ],
   "source": [
    "df[\"falsePositives\"].hist(bins=range(0, 5, 1))\n",
    "print df.groupby(\"num\").count()\n",
    "print df.groupby(\"num\").count()/float(df.shape[0])\n",
    "#print df.groupby(\"angles\", \"num\").count()"
   ]
  },
  {
   "cell_type": "code",
   "execution_count": 6,
   "metadata": {},
   "outputs": [
    {
     "name": "stdout",
     "output_type": "stream",
     "text": [
      "                      name  num  truePositives  falsePositives\n",
      "angles                                                        \n",
      "-Ahmed_0001.jpg          1    1              1               1\n",
      "-Alegria_0001.jpg        1    1              1               1\n",
      "-Alexander_0001.jpg      1    1              1               1\n",
      "-Alexander_0002.jpg      1    1              1               1\n",
      "-Alexander_0003.jpg      1    1              1               1\n",
      "-Ani_0001.jpg            1    1              1               1\n",
      "-Arian_0001.jpg          1    1              1               1\n",
      "-Attiyah_0001.jpg        1    1              1               1\n",
      "-Attiyah_0002.jpg        1    1              1               1\n",
      "-Attiyah_0003.jpg        1    1              1               1\n",
      "-Awadi_0001.jpg          1    1              1               1\n",
      "-Azzawi_0001.jpg         1    1              1               1\n",
      "-Balart_0001.jpg         1    1              1               1\n",
      "-Buller_0001.jpg         1    1              1               1\n",
      "-Dandieu_0001.jpg        1    1              1               1\n",
      "-Daskalaki_0001.jpg      1    1              1               1\n",
      "-Daskalaki_0002.jpg      1    1              1               1\n",
      "-Daskalaki_0003.jpg      1    1              1               1\n",
      "-Diatta_0001.jpg         1    1              1               1\n",
      "-Douri_0001.jpg          1    1              1               1\n",
      "-Douri_0002.jpg          1    1              1               1\n",
      "-Douri_0003.jpg          1    1              1               1\n",
      "-Douri_0004.jpg          1    1              1               1\n",
      "-Douri_0005.jpg          1    1              1               1\n",
      "-Douri_0006.jpg          1    1              1               1\n",
      "-Douri_0007.jpg          1    1              1               1\n",
      "-Douri_0008.jpg          1    1              1               1\n",
      "-Douri_0009.jpg          1    1              1               1\n",
      "-Douri_0010.jpg          1    1              1               1\n",
      "-Douri_0011.jpg          1    1              1               1\n",
      "...                    ...  ...            ...             ...\n",
      "Ziyi_0004.jpg            1    1              1               1\n",
      "Zoellick_0001.jpg        1    1              1               1\n",
      "Zoellick_0002.jpg        1    1              1               1\n",
      "Zoellick_0003.jpg        1    1              1               1\n",
      "Zoellick_0004.jpg        1    1              1               1\n",
      "Zoellick_0005.jpg        1    1              1               1\n",
      "Zoellick_0006.jpg        1    1              1               1\n",
      "Zoellick_0007.jpg        1    1              1               1\n",
      "Zolman_0001.jpg          1    1              1               1\n",
      "Zook_0001.jpg            1    1              1               1\n",
      "Zorlu_0001.jpg           1    1              1               1\n",
      "Zorn_0001.jpg            2    2              2               2\n",
      "Zuluaga_0001.jpg         1    1              1               1\n",
      "Zuluaga_0002.jpg         1    1              1               1\n",
      "Zuzic_0001.jpg           1    1              1               1\n",
      "Zwickel_0001.jpg         1    1              1               1\n",
      "Zwickel_0002.jpg         1    1              1               1\n",
      "Zylberstein_0001.jpg     1    1              1               1\n",
      "Zylberstein_0002.jpg     1    1              1               1\n",
      "Zylberstein_0003.jpg     1    1              1               1\n",
      "Zylberstein_0004.jpg     1    1              1               1\n",
      "Zylberstein_0005.jpg     1    1              1               1\n",
      "Zylberstein_0006.jpg     1    1              1               1\n",
      "dEstaing_0001.jpg        1    1              1               1\n",
      "dEstaing_0002.jpg        1    1              1               1\n",
      "dEstaing_0003.jpg        1    1              1               1\n",
      "dEstaing_0004.jpg        1    1              1               1\n",
      "dEstaing_0005.jpg        1    1              1               1\n",
      "dEstaing_0006.jpg        1    1              1               1\n",
      "dEste_0001.jpg           1    1              1               1\n",
      "\n",
      "[11434 rows x 4 columns]\n"
     ]
    }
   ],
   "source": [
    "print df.groupby(\"angles\").count()"
   ]
  },
  {
   "cell_type": "code",
   "execution_count": 10,
   "metadata": {},
   "outputs": [
    {
     "data": {
      "text/plain": [
       "<matplotlib.axes._subplots.AxesSubplot at 0x7fd8d7873450>"
      ]
     },
     "execution_count": 10,
     "metadata": {},
     "output_type": "execute_result"
    },
    {
     "data": {
      "image/png": "[encoded data removed]",
      "text/plain": [
       "<matplotlib.figure.Figure at 0x7fd8d784bc10>"
      ]
     },
     "metadata": {},
     "output_type": "display_data"
    }
   ],
   "source": [
    "df.groupby(\"num\").count().plot(kind=\"bar\")"
   ]
  },
  {
   "cell_type": "code",
   "execution_count": null,
   "metadata": {
    "collapsed": true
   },
   "outputs": [],
   "source": []
  },
  {
   "cell_type": "code",
   "execution_count": null,
   "metadata": {
    "collapsed": true
   },
   "outputs": [],
   "source": []
  },
  {
   "cell_type": "code",
   "execution_count": null,
   "metadata": {
    "collapsed": true
   },
   "outputs": [],
   "source": []
  },
  {
   "cell_type": "code",
   "execution_count": null,
   "metadata": {
    "collapsed": true
   },
   "outputs": [],
   "source": []
  },
  {
   "cell_type": "code",
   "execution_count": null,
   "metadata": {
    "collapsed": true
   },
   "outputs": [],
   "source": []
  },
  {
   "cell_type": "code",
   "execution_count": null,
   "metadata": {
    "collapsed": true
   },
   "outputs": [],
   "source": []
  },
  {
   "cell_type": "code",
   "execution_count": null,
   "metadata": {
    "collapsed": true
   },
   "outputs": [],
   "source": []
  },
  {
   "cell_type": "code",
   "execution_count": null,
   "metadata": {
    "collapsed": true
   },
   "outputs": [],
   "source": []
  },
  {
   "cell_type": "code",
   "execution_count": null,
   "metadata": {
    "collapsed": true
   },
   "outputs": [],
   "source": []
  },
  {
   "cell_type": "code",
   "execution_count": null,
   "metadata": {
    "collapsed": true
   },
   "outputs": [],
   "source": []
  },
  {
   "cell_type": "code",
   "execution_count": null,
   "metadata": {
    "collapsed": true
   },
   "outputs": [],
   "source": []
  },
  {
   "cell_type": "code",
   "execution_count": null,
   "metadata": {
    "collapsed": true
   },
   "outputs": [],
   "source": []
  }
 ],
 "metadata": {
  "kernelspec": {
   "display_name": "Python 2",
   "language": "python",
   "name": "python2"
  },
  "language_info": {
   "codemirror_mode": {
    "name": "ipython",
    "version": 2
   },
   "file_extension": ".py",
   "mimetype": "text/x-python",
   "name": "python",
   "nbconvert_exporter": "python",
   "pygments_lexer": "ipython2",
   "version": "2.7.12"
  }
 },
 "nbformat": 4,
 "nbformat_minor": 2
}
