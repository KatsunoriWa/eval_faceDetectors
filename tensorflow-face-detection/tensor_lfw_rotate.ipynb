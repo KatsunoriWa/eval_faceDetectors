{
 "cells": [
  {
   "cell_type": "markdown",
   "metadata": {},
   "source": [
    "# Labeled Faces in the Wild\n",
    "\n",
    "http://vis-www.cs.umass.edu/lfw/"
   ]
  },
  {
   "cell_type": "markdown",
   "metadata": {},
   "source": [
    "## このデータベースを利用する目的：\n",
    "\n",
    "制御された撮影環境にによる画像のデータベースではなく、さまざまな撮影環境で撮影された画像セットに対する顔の検出・顔の照合に使われるデータベース。近年、画像認識技術の評価に用いられることが増えてきている。\n",
    "\n",
    "## 評価上の注意：\n",
    "\n",
    "- 東洋人の顔が少ない。\n",
    "- 既に顔画像が正規化されている。両目の位置は既に一致するようになっている。\n",
    "- rollの評価は、別途画像を回転させて検出率を評価すること。\n",
    "- 有名人の画像であるので、その同じ有名人が既に検出などの学習の被写体として利用されている可能性がある。\n",
    "- 報道などの撮影で用いられた画像とみられるので、フォーカスや画像の明るさなどは確保された画像になっている比率が高い。"
   ]
  },
  {
   "cell_type": "markdown",
   "metadata": {
    "collapsed": true
   },
   "source": [
    "顔検出が面内回転に対してどれくらい頑強かを評価する。\n",
    "\n",
    "データベースによっては既に目位置を正規化してあり、\n",
    "面内回転を加えたデータで評価してはじめて、実際環境での顔検出能力を評価できる。\n",
    "\n",
    "そこで、このスクリプトでは、データに面内回転を加えた画像を作って\n",
    "検出率を評価している。\n"
   ]
  },
  {
   "cell_type": "code",
   "execution_count": 1,
   "metadata": {
    "collapsed": true
   },
   "outputs": [],
   "source": [
    "%matplotlib inline\n",
    "import pandas as pd\n",
    "\n"
   ]
  },
  {
   "cell_type": "code",
   "execution_count": 2,
   "metadata": {},
   "outputs": [
    {
     "name": "stderr",
     "output_type": "stream",
     "text": [
      "/usr/local/lib/python2.7/dist-packages/h5py/__init__.py:34: FutureWarning: Conversion of the second argument of issubdtype from `float` to `np.floating` is deprecated. In future, it will be treated as `np.float64 == np.dtype(float).type`.\n",
      "  from ._conv import register_converters as _register_converters\n"
     ]
    }
   ],
   "source": [
    "\n",
    "import glob\n",
    "dataset = \"lfw\"\n",
    "names = glob.glob(\"lfw/lfw/*/*.jpg\")\n",
    "names.sort()\n",
    "degs=(-45, -40, -35, -30, -25, -20, -15, -10, -5, 0, 5, 10, 15, 20, 25, 30, 35, 40, 45)\n"
   ]
  },
  {
   "cell_type": "code",
   "execution_count": 3,
   "metadata": {
    "collapsed": true
   },
   "outputs": [],
   "source": [
    "#names = names[:20]\n",
    "#degs=( -20, 0, 20)\n",
    "#degs = (45, )"
   ]
  },
  {
   "cell_type": "code",
   "execution_count": 4,
   "metadata": {
    "collapsed": true
   },
   "outputs": [],
   "source": [
    "import tfFaceDetector as faceDetector\n",
    "for deg in degs:\n",
    "    faceDetector.processDatabase(dataset, names, deg)"
   ]
  },
  {
   "cell_type": "markdown",
   "metadata": {
    "collapsed": true
   },
   "source": [
    "# Labeled Faces in the Wild dataset の検出処理後のデータ解析"
   ]
  },
  {
   "cell_type": "code",
   "execution_count": 3,
   "metadata": {},
   "outputs": [
    {
     "name": "stdout",
     "output_type": "stream",
     "text": [
      "-45 0.4040655935917781\n",
      "-40 0.5646489836016021\n",
      "-35 0.7044509937278017\n",
      "-30 0.8273256253306128\n",
      "-25 0.8646565404670142\n",
      "-20 0.9096954583238872\n",
      "-15 0.9220131489458173\n",
      "-10 0.9152119700748129\n",
      "-5 0.9171011864278698\n",
      "0 0.937882566311494\n",
      "5 0.9224665608705509\n",
      "10 0.9180835789314592\n",
      "15 0.9087130658202978\n",
      "20 0.8671503060530492\n",
      "25 0.7895412982694778\n",
      "30 0.7645280737550064\n",
      "35 0.6460364240912869\n",
      "40 0.5273180684652007\n",
      "45 0.3829819390916648\n"
     ]
    }
   ],
   "source": [
    "degs=(-45, -40, -35, -30, -25, -20, -15, -10, -5, 0, 5, 10, 15, 20, 25, 30, 35, 40, 45)\n",
    "dfs={}\n",
    "for deg in degs:\n",
    "    dfs[deg] = pd.read_csv(\"log_lfw_%d.csv\" % deg)\n",
    "    print deg, dfs[deg][\"truePositives\"].mean()"
   ]
  },
  {
   "cell_type": "code",
   "execution_count": 6,
   "metadata": {
    "collapsed": true
   },
   "outputs": [],
   "source": [
    "rates = [dfs[deg][\"truePositives\"].mean() for deg in degs]\n",
    "data = {\"degs\":degs, \"rates\":rates}\n",
    "df = pd.DataFrame(data, columns=[\"degs\", \"rates\"])"
   ]
  },
  {
   "cell_type": "code",
   "execution_count": 7,
   "metadata": {},
   "outputs": [
    {
     "data": {
      "text/plain": [
       "<matplotlib.axes._subplots.AxesSubplot at 0x7f6ab14e0750>"
      ]
     },
     "execution_count": 7,
     "metadata": {},
     "output_type": "execute_result"
    },
    {
     "data": {
      "image/png": "[encoded data removed]",
      "text/plain": [
       "<matplotlib.figure.Figure at 0x7f6ab1477310>"
      ]
     },
     "metadata": {},
     "output_type": "display_data"
    }
   ],
   "source": [
    "df.plot(x=\"degs\", y=\"rates\", grid=True)"
   ]
  },
  {
   "cell_type": "markdown",
   "metadata": {
    "collapsed": true
   },
   "source": [
    "### 誤検出データの扱いをしていないので、間違った評価になってしまっている。"
   ]
  },
  {
   "cell_type": "code",
   "execution_count": null,
   "metadata": {
    "collapsed": true
   },
   "outputs": [],
   "source": []
  }
 ],
 "metadata": {
  "kernelspec": {
   "display_name": "Python 2",
   "language": "python",
   "name": "python2"
  },
  "language_info": {
   "codemirror_mode": {
    "name": "ipython",
    "version": 2
   },
   "file_extension": ".py",
   "mimetype": "text/x-python",
   "name": "python",
   "nbconvert_exporter": "python",
   "pygments_lexer": "ipython2",
   "version": "2.7.12"
  }
 },
 "nbformat": 4,
 "nbformat_minor": 2
}
